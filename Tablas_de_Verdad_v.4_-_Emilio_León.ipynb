{
 "cells": [
  {
   "cell_type": "markdown",
   "id": "71d6edfc",
   "metadata": {},
   "source": [
    "# Tablas de Verdad v.4\n",
    "\n",
    "De acuerdo con <a href=\"https://platzi.com/clases/3221-pensamiento-logico/50676-que-son-las-tablas-de-verdad/\">Platzi</a>, las tablas de verdad son herramientas representadas a través de varios gráficos de filas y columnas que muestran todos los posibles escenarios y condiciones de valores de entrada para una operación lógica y su resultado correspondiente.\n",
    "\n",
    "Su función base es mostrar cómo funcionan un circuito electrónico y los programas de una computadora, siendo también un pilar de la lógica proposicional."
   ]
  },
  {
   "cell_type": "markdown",
   "id": "b52d246c",
   "metadata": {},
   "source": [
    "<img src = \"https://static.platzi.com/media/user_upload/tablas-verdad-reglas-9ad0f07d-24d4-4a02-aaf5-be8db8711221.jpg\"     width =\"500\">"
   ]
  },
  {
   "cell_type": "markdown",
   "id": "15456775",
   "metadata": {},
   "source": [
    "## Pequeña introducción sobre vatiables en python\n",
    "\n",
    "Como escribe un <a href=\"https://tutorialpython.com/variables-en-python/\">sitio web</a>, Una variable es un espacio donde guardamos una determinada información. En función del tipo de información que guardemos (texto, números, booleanas, etc.), la variable será de uno u otro tipo. Por simplicidad sólo vamos a ver las variables de texto y numéricas, ya que son las que se usan en más del 80% de las ocasiones.\n",
    "\n",
    "Cada variable necesita un nombre con el que referirnos a ella. Python tiene en cuenta si escribimos en mayúsculas o minúsculas la variable (lo que se conoce como case sensitive)                                                                           Por ejemplo:"
   ]
  },
  {
   "cell_type": "code",
   "execution_count": null,
   "id": "53fde4ea",
   "metadata": {},
   "outputs": [],
   "source": [
    "#declarando variables DESCRIPTIVAS\n",
    "edad = 18\n",
    "nombre = \"Emilio\""
   ]
  },
  {
   "cell_type": "code",
   "execution_count": null,
   "id": "a6aed6b3",
   "metadata": {},
   "outputs": [],
   "source": [
    "print(edad)"
   ]
  },
  {
   "cell_type": "code",
   "execution_count": null,
   "id": "cb82f3c4",
   "metadata": {},
   "outputs": [],
   "source": [
    "print(nombre)"
   ]
  },
  {
   "cell_type": "code",
   "execution_count": null,
   "id": "d48597b2",
   "metadata": {},
   "outputs": [],
   "source": [
    "booleano = True"
   ]
  },
  {
   "cell_type": "code",
   "execution_count": null,
   "id": "80e5e072",
   "metadata": {},
   "outputs": [],
   "source": [
    "print(booleano)"
   ]
  },
  {
   "cell_type": "code",
   "execution_count": null,
   "id": "9a8c2ed2",
   "metadata": {},
   "outputs": [],
   "source": [
    "tunombre =input(\"Escribe tu nombre \")"
   ]
  },
  {
   "cell_type": "code",
   "execution_count": null,
   "id": "8884b06e",
   "metadata": {},
   "outputs": [],
   "source": []
  },
  {
   "cell_type": "code",
   "execution_count": null,
   "id": "644bdfba",
   "metadata": {},
   "outputs": [],
   "source": [
    "print(tunombre)"
   ]
  },
  {
   "cell_type": "code",
   "execution_count": null,
   "id": "d0ea3b2e",
   "metadata": {},
   "outputs": [],
   "source": [
    "edad = input(\"Cuantos años tienes \")"
   ]
  },
  {
   "cell_type": "code",
   "execution_count": null,
   "id": "1e176806",
   "metadata": {},
   "outputs": [],
   "source": [
    "meses = int(edad) * 12"
   ]
  },
  {
   "cell_type": "code",
   "execution_count": null,
   "id": "9b3fc004",
   "metadata": {},
   "outputs": [],
   "source": [
    "print(meses)"
   ]
  },
  {
   "cell_type": "markdown",
   "id": "04888cea",
   "metadata": {},
   "source": [
    "## Regresando a las tablas de verdad \n",
    "\n",
    "En python existen muchas bibliotecas con diferentes funcionalidades, casi para todo. Para el caso de las tablas de verdad existe la biblioteca ttg.( https://pypi.org/project/truth-table-generator/ ). Para importar la biblioteca se utiliza:"
   ]
  },
  {
   "cell_type": "code",
   "execution_count": null,
   "id": "8c5d8aa0",
   "metadata": {},
   "outputs": [],
   "source": [
    "import ttg"
   ]
  },
  {
   "cell_type": "markdown",
   "id": "40b604f6",
   "metadata": {},
   "source": [
    "Una tabla de verdad tiene una columna para cada variable de entrada (por ejemplo, p y q) y una columna final que muestra todos los resultados posibles de la operación lógica que representa la tabla. Si la entrada tiene solo una lista de cadenas, cada cadena se considera una variable de entrada:\n",
    "    "
   ]
  },
  {
   "cell_type": "code",
   "execution_count": null,
   "id": "ebca929d",
   "metadata": {},
   "outputs": [],
   "source": [
    "print(ttg.Truths(['p', 'q']))"
   ]
  },
  {
   "cell_type": "markdown",
   "id": "10744386",
   "metadata": {},
   "source": [
    "Tambien se pueden agregar más propociciones "
   ]
  },
  {
   "cell_type": "code",
   "execution_count": null,
   "id": "491904ce",
   "metadata": {},
   "outputs": [],
   "source": [
    "print(ttg.Truths(['p', 'q', 'r', 's']))"
   ]
  },
  {
   "cell_type": "markdown",
   "id": "a08bab12",
   "metadata": {},
   "source": [
    "### Tambien se pueden agregar sus operadores y estas son sus representaciones:\n",
    "<br>\n",
    "<li>negation: 'not', '-', '~'\n",
    "<li>logical disjunction: 'or'\n",
    "<li>logical nor: 'nor'\n",
    "<li>exclusive disjunction: 'xor', '!='\n",
    "<li>logical conjunction: 'and'\n",
    "<li>logical NAND: 'nand'\n",
    "<li>material implication: '=>', 'implies'\n",
    "<li>logical biconditional: '='\n",
    "    <br><br>\n",
    "<b>Nota:</b> Utilice paréntesis!"
   ]
  },
  {
   "cell_type": "code",
   "execution_count": null,
   "id": "051253f2",
   "metadata": {},
   "outputs": [],
   "source": [
    "print(ttg.Truths(['p', 'q', 'r'], ['p and q and r', 'p or q or r', '(p or (~q)) => r']))"
   ]
  },
  {
   "cell_type": "markdown",
   "id": "53057e7d",
   "metadata": {},
   "source": [
    "## Ejercicios"
   ]
  },
  {
   "cell_type": "code",
   "execution_count": null,
   "id": "fd349931",
   "metadata": {},
   "outputs": [],
   "source": [
    "print (\"Numero 1.\")\n",
    "print (ttg.Truths(['p','q'],['p and q']))"
   ]
  },
  {
   "cell_type": "code",
   "execution_count": null,
   "id": "7377e9f7",
   "metadata": {},
   "outputs": [],
   "source": [
    "print (\"Numero 2.\")\n",
    "print (ttg.Truths(['p','q','r'],['p and q','p and q and r']))"
   ]
  },
  {
   "cell_type": "code",
   "execution_count": null,
   "id": "e6cbd608",
   "metadata": {},
   "outputs": [],
   "source": [
    "print (\"Numero 3.\")\n",
    "print (ttg.Truths(['p','q'],['p and ~q','p => ~q ', '~(p => ~(q))','~(p => ~(q)) and (p and ~q)']))"
   ]
  },
  {
   "cell_type": "code",
   "execution_count": null,
   "id": "c6995b35",
   "metadata": {},
   "outputs": [],
   "source": [
    "print (\"Numero 4.\")\n",
    "print (ttg.Truths(['p','q'],['(p and q) or (p and ~(q))' ]))"
   ]
  },
  {
   "cell_type": "code",
   "execution_count": null,
   "id": "dc296908",
   "metadata": {},
   "outputs": [],
   "source": [
    "print (\"Numero 5.\")\n",
    "print (ttg.Truths(['p','q','r'],['p and q', 'p and q and r']))"
   ]
  },
  {
   "cell_type": "code",
   "execution_count": null,
   "id": "8071a2f7",
   "metadata": {},
   "outputs": [],
   "source": [
    "print (\"Numero 6.\")\n",
    "print (ttg.Truths(['p','q'],['~(p and ~(q)) and (p and ~(q))']))"
   ]
  },
  {
   "cell_type": "code",
   "execution_count": null,
   "id": "4f3fc488",
   "metadata": {},
   "outputs": [],
   "source": [
    "print (\"Numero 7.\")\n",
    "print (ttg.Truths(['p','q'],['~(~(~(p) and ~(q)) or (p and ~(q)))']))"
   ]
  },
  {
   "cell_type": "code",
   "execution_count": null,
   "id": "5e0eeee9",
   "metadata": {},
   "outputs": [],
   "source": [
    "print (\"Numero 8.\")\n",
    "print (ttg.Truths(['p','q','r'],['(p or q) and r']))"
   ]
  },
  {
   "cell_type": "code",
   "execution_count": null,
   "id": "2f3113d4",
   "metadata": {},
   "outputs": [],
   "source": [
    "print (\"Numero 9.\")\n",
    "print (ttg.Truths(['p','q'],['~(~(p) and ~(q)) and (~(p) and ~(q)))']))"
   ]
  },
  {
   "cell_type": "code",
   "execution_count": null,
   "id": "87124279",
   "metadata": {},
   "outputs": [],
   "source": [
    "print (\"Numero 10.\")\n",
    "print (ttg.Truths(['p','q','r'],['(p or q) and ~(r)']))"
   ]
  },
  {
   "cell_type": "code",
   "execution_count": null,
   "id": "ad0bd6ae",
   "metadata": {},
   "outputs": [],
   "source": [
    "print (\"Numero 11.\")\n",
    "print (ttg.Truths(['p','q','r'],['p and q => r']))"
   ]
  },
  {
   "cell_type": "code",
   "execution_count": null,
   "id": "e7f203e4",
   "metadata": {},
   "outputs": [],
   "source": [
    "print (\"Numero 12.\")\n",
    "print (ttg.Truths(['p','q','r'],['p and q => ~(r)']))"
   ]
  },
  {
   "cell_type": "code",
   "execution_count": null,
   "id": "22021dce",
   "metadata": {},
   "outputs": [],
   "source": [
    "print (\"Numero 13.\")\n",
    "print (ttg.Truths(['p'],['p = ~(p)']))"
   ]
  },
  {
   "cell_type": "code",
   "execution_count": null,
   "id": "83fc788e",
   "metadata": {},
   "outputs": [],
   "source": [
    "print (\"Numero 14.\")\n",
    "print (ttg.Truths(['p','q'],['~(p and ~(q)) and (p and ~(q))']))"
   ]
  },
  {
   "cell_type": "code",
   "execution_count": null,
   "id": "e6ad64a6",
   "metadata": {},
   "outputs": [],
   "source": [
    "print (\"Numero 15.\")\n",
    "print (ttg.Truths(['p','q'],['~(~(p)) or ~(~(q))']))"
   ]
  },
  {
   "cell_type": "code",
   "execution_count": null,
   "id": "bd965b4a",
   "metadata": {},
   "outputs": [],
   "source": [
    "print (\"Numero 16.\")\n",
    "print (ttg.Truths(['p','q'],['p or q']))"
   ]
  },
  {
   "cell_type": "code",
   "execution_count": null,
   "id": "b069b6b1",
   "metadata": {},
   "outputs": [],
   "source": [
    "print (\"Numero 17.\")\n",
    "print (ttg.Truths(['p','q','r'],['(p = q) or r']))"
   ]
  },
  {
   "cell_type": "code",
   "execution_count": null,
   "id": "ed2b13ce",
   "metadata": {},
   "outputs": [],
   "source": [
    "print (\"Numero 18.\")\n",
    "print (ttg.Truths(['p','q'],['~p or q or p and q => ~p or q or ~p']))"
   ]
  },
  {
   "cell_type": "code",
   "execution_count": null,
   "id": "bc0da508",
   "metadata": {},
   "outputs": [],
   "source": [
    "print (\"Numero 19.\")\n",
    "print (ttg.Truths(['p','q'],['p or ~q => ~p => ~q']))"
   ]
  },
  {
   "cell_type": "code",
   "execution_count": null,
   "id": "f49cae8c",
   "metadata": {},
   "outputs": [],
   "source": [
    "print (\"Numero 20.\")\n",
    "print (ttg.Truths(['p','q'],['(p = ~q) or (p or ~q)']))"
   ]
  },
  {
   "cell_type": "code",
   "execution_count": null,
   "id": "0393e7bf",
   "metadata": {},
   "outputs": [],
   "source": [
    "print (\"Numero 21.\")\n",
    "print (ttg.Truths(['p','q'],['~q or ~p']))"
   ]
  },
  {
   "cell_type": "code",
   "execution_count": null,
   "id": "f26d9dab",
   "metadata": {},
   "outputs": [],
   "source": [
    "print (\"Numero 22.\")\n",
    "print (ttg.Truths(['p','q','r'],['(p => q and r) = ~(~(q) or r) or ~(r)']))"
   ]
  },
  {
   "cell_type": "code",
   "execution_count": null,
   "id": "5f8b6f57",
   "metadata": {},
   "outputs": [],
   "source": [
    "print (\"Numero 23.\")\n",
    "print (ttg.Truths(['r','q'],['(~q and r) => ~(~q or r) or ~r']))"
   ]
  },
  {
   "cell_type": "code",
   "execution_count": null,
   "id": "e0fb6859",
   "metadata": {},
   "outputs": [],
   "source": [
    "print (\"Numero 24.\")\n",
    "print (ttg.Truths(['p','q','r'],['']))"
   ]
  },
  {
   "cell_type": "code",
   "execution_count": null,
   "id": "b395a1da",
   "metadata": {},
   "outputs": [],
   "source": [
    "print (\"Numero 25.\")\n",
    "print (ttg.Truths(['p','q','r'],['(p => q) and r => ~(p or r) or ~r']))"
   ]
  },
  {
   "cell_type": "code",
   "execution_count": null,
   "id": "b0231cf8",
   "metadata": {},
   "outputs": [],
   "source": [
    "print (\"Numero 26.\")\n",
    "print (ttg.Truths(['p','q','r'],['(p => q) or (q => r) => (p or ~r)']))"
   ]
  },
  {
   "cell_type": "code",
   "execution_count": null,
   "id": "21df02eb",
   "metadata": {},
   "outputs": [],
   "source": [
    "print (\"Numero 27.\")\n",
    "print (ttg.Truths(['p','q','r'],['~p = (q and r) or ~(~q or r)']))"
   ]
  },
  {
   "cell_type": "code",
   "execution_count": null,
   "id": "bf17d7b8",
   "metadata": {},
   "outputs": [],
   "source": [
    "print (\"Numero 28.\")\n",
    "print (ttg.Truths(['p','q'],['((p v ~q) => (p =>q)) => ((~p => q) or ~p) or ~p']))"
   ]
  },
  {
   "cell_type": "code",
   "execution_count": null,
   "id": "63aaaf2d",
   "metadata": {},
   "outputs": [],
   "source": [
    "print (\"Numero 29.\")\n",
    "print (ttg.Truths(['p','q'],['(~(p or q) or (p => q)) => ((~p => q) or ~p)']))"
   ]
  },
  {
   "cell_type": "code",
   "execution_count": null,
   "id": "43665322",
   "metadata": {},
   "outputs": [],
   "source": [
    "print (\"Numero 30.\")\n",
    "print (ttg.Truths(['p','q','r'],['(p => q) and (q => r) => (p and r)']))"
   ]
  },
  {
   "cell_type": "code",
   "execution_count": null,
   "id": "8c61a780",
   "metadata": {},
   "outputs": [],
   "source": [
    "print (\"Numero 31.\")\n",
    "print (ttg.Truths(['p','q','r'],['(p and => r) => (p and r)']))"
   ]
  }
 ],
 "metadata": {
  "kernelspec": {
   "display_name": "Python 3 (ipykernel)",
   "language": "python",
   "name": "python3"
  },
  "language_info": {
   "codemirror_mode": {
    "name": "ipython",
    "version": 3
   },
   "file_extension": ".py",
   "mimetype": "text/x-python",
   "name": "python",
   "nbconvert_exporter": "python",
   "pygments_lexer": "ipython3",
   "version": "3.11.5"
  }
 },
 "nbformat": 4,
 "nbformat_minor": 5
}
